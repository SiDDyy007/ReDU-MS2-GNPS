{
 "cells": [
  {
   "cell_type": "code",
   "execution_count": 4,
   "metadata": {},
   "outputs": [],
   "source": []
  },
  {
   "cell_type": "code",
   "execution_count": 5,
   "metadata": {},
   "outputs": [],
   "source": [
    "task_id = \"a75aa494e927481dae6de12608e5e4a0\"\n",
    "url = \"https://gnps.ucsd.edu/ProteoSAFe/result_json.jsp?view=cluster_info_sliced&componentindex=2892&show=true&task=a75aa494e927481dae6de12608e5e4a0#%7B%7D\"\n",
    "import requests\n",
    "r = requests.get(url)\n",
    "\n",
    "data_list = r.json()[\"blockData\"]"
   ]
  },
  {
   "cell_type": "code",
   "execution_count": 9,
   "metadata": {},
   "outputs": [
    {
     "ename": "NameError",
     "evalue": "name 'pd' is not defined",
     "output_type": "error",
     "traceback": [
      "\u001b[0;31m---------------------------------------------------------------------------\u001b[0m",
      "\u001b[0;31mNameError\u001b[0m                                 Traceback (most recent call last)",
      "\u001b[0;32m<ipython-input-9-aedab3039ab7>\u001b[0m in \u001b[0;36m<module>\u001b[0;34m\u001b[0m\n\u001b[1;32m     19\u001b[0m     \u001b[0moutput_list\u001b[0m\u001b[0;34m.\u001b[0m\u001b[0mappend\u001b[0m\u001b[0;34m(\u001b[0m\u001b[0moutput_dict\u001b[0m\u001b[0;34m)\u001b[0m\u001b[0;34m\u001b[0m\u001b[0;34m\u001b[0m\u001b[0m\n\u001b[1;32m     20\u001b[0m \u001b[0;34m\u001b[0m\u001b[0m\n\u001b[0;32m---> 21\u001b[0;31m \u001b[0mpd\u001b[0m\u001b[0;34m.\u001b[0m\u001b[0mDataFrame\u001b[0m\u001b[0;34m(\u001b[0m\u001b[0moutput_list\u001b[0m\u001b[0;34m)\u001b[0m\u001b[0;34m.\u001b[0m\u001b[0mto_csv\u001b[0m\u001b[0;34m(\u001b[0m\u001b[0;34m\"with_usi.tsv\"\u001b[0m\u001b[0;34m,\u001b[0m \u001b[0msep\u001b[0m\u001b[0;34m=\u001b[0m\u001b[0;34m\"\\t\"\u001b[0m\u001b[0;34m,\u001b[0m \u001b[0mindex\u001b[0m\u001b[0;34m=\u001b[0m\u001b[0;32mFalse\u001b[0m\u001b[0;34m)\u001b[0m\u001b[0;34m\u001b[0m\u001b[0;34m\u001b[0m\u001b[0m\n\u001b[0m",
      "\u001b[0;31mNameError\u001b[0m: name 'pd' is not defined"
     ]
    }
   ],
   "source": [
    "output_list = []\n",
    "\n",
    "for spectrum in data_list:\n",
    "    scan = spectrum[\"cluster index\"]\n",
    "    usi = f\"mzspec:GNPSTASK-{task_id}:spectra/specs_ms.mgf:scan:{scan}\"\n",
    "    svg_url = f\"https://metabolomics-usi.ucsd.edu/svg/?usi={usi}\"\n",
    "    usi_url = f\"https://metabolomics-usi.ucsd.edu/spectrum/?usi={usi}\"\n",
    "    \n",
    "    r = requests.get(svg_url)\n",
    "    with open(f\"{scan}.svg\", \"w\") as svg_file:\n",
    "        svg_file.write(r.text)\n",
    "        \n",
    "    output_dict = {}\n",
    "    output_dict[\"scan\"] = scan\n",
    "    output_dict[\"usi\"] = usi\n",
    "    output_dict[\"usi-url\"] = usi_url\n",
    "    output_dict[\"svg-url\"] = svg_url\n",
    "    \n",
    "    output_list.append(output_dict)\n",
    "\n",
    "pd.DataFrame(output_list).to_csv(\"with_usi.tsv\", sep=\"\\t\", index=False)"
   ]
  },
  {
   "cell_type": "code",
   "execution_count": null,
   "metadata": {},
   "outputs": [],
   "source": []
  }
 ],
 "metadata": {
  "kernelspec": {
   "display_name": "Python 3",
   "language": "python",
   "name": "python3"
  },
  "language_info": {
   "codemirror_mode": {
    "name": "ipython",
    "version": 3
   },
   "file_extension": ".py",
   "mimetype": "text/x-python",
   "name": "python",
   "nbconvert_exporter": "python",
   "pygments_lexer": "ipython3",
   "version": "3.7.3"
  }
 },
 "nbformat": 4,
 "nbformat_minor": 4
}
