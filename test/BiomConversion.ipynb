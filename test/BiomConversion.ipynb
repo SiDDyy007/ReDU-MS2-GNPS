{
 "cells": [
  {
   "cell_type": "code",
   "execution_count": 1,
   "metadata": {},
   "outputs": [],
   "source": [
    "import pandas as pd"
   ]
  },
  {
   "cell_type": "code",
   "execution_count": 2,
   "metadata": {},
   "outputs": [],
   "source": [
    "df = pd.read_csv(\"all_identifications.tsv\", sep=\"\\t\")"
   ]
  },
  {
   "cell_type": "code",
   "execution_count": 3,
   "metadata": {},
   "outputs": [],
   "source": [
    "small_object_df = df[[\"full_CCMS_path\", \"SpectrumID\"]]"
   ]
  },
  {
   "cell_type": "code",
   "execution_count": 4,
   "metadata": {},
   "outputs": [
    {
     "data": {
      "text/plain": [
       "2710199"
      ]
     },
     "execution_count": 4,
     "metadata": {},
     "output_type": "execute_result"
    }
   ],
   "source": [
    "len(small_object_df.drop_duplicates())"
   ]
  },
  {
   "cell_type": "code",
   "execution_count": 33,
   "metadata": {},
   "outputs": [],
   "source": [
    "small_object_df[\"full_CCMS_path\"] = small_object_df[\"full_CCMS_path\"].apply(lambda x : \"f.\" + x)"
   ]
  },
  {
   "cell_type": "code",
   "execution_count": 34,
   "metadata": {},
   "outputs": [
    {
     "data": {
      "text/html": [
       "<div>\n",
       "<style scoped>\n",
       "    .dataframe tbody tr th:only-of-type {\n",
       "        vertical-align: middle;\n",
       "    }\n",
       "\n",
       "    .dataframe tbody tr th {\n",
       "        vertical-align: top;\n",
       "    }\n",
       "\n",
       "    .dataframe thead th {\n",
       "        text-align: right;\n",
       "    }\n",
       "</style>\n",
       "<table border=\"1\" class=\"dataframe\">\n",
       "  <thead>\n",
       "    <tr style=\"text-align: right;\">\n",
       "      <th></th>\n",
       "      <th>full_CCMS_path</th>\n",
       "      <th>SpectrumID</th>\n",
       "    </tr>\n",
       "  </thead>\n",
       "  <tbody>\n",
       "    <tr>\n",
       "      <th>0</th>\n",
       "      <td>f.MSV000082953/ccms_peak/raw data/P1_B6.mzML</td>\n",
       "      <td>CCMSLIB00003139594</td>\n",
       "    </tr>\n",
       "    <tr>\n",
       "      <th>1</th>\n",
       "      <td>f.MSV000080673/ccms_peak/2017.AmericanGut3K.mz...</td>\n",
       "      <td>CCMSLIB00000852361</td>\n",
       "    </tr>\n",
       "    <tr>\n",
       "      <th>2</th>\n",
       "      <td>f.MSV000083004/ccms_peak/Bile_acid_gavage_expe...</td>\n",
       "      <td>CCMSLIB00003125773</td>\n",
       "    </tr>\n",
       "    <tr>\n",
       "      <th>3</th>\n",
       "      <td>f.MSV000082312/ccms_peak/raw/Samples/SD_01-201...</td>\n",
       "      <td>CCMSLIB00004713744</td>\n",
       "    </tr>\n",
       "    <tr>\n",
       "      <th>4</th>\n",
       "      <td>f.MSV000080918/ccms_peak/Steatohepatitis progr...</td>\n",
       "      <td>CCMSLIB00003127388</td>\n",
       "    </tr>\n",
       "  </tbody>\n",
       "</table>\n",
       "</div>"
      ],
      "text/plain": [
       "                                      full_CCMS_path          SpectrumID\n",
       "0       f.MSV000082953/ccms_peak/raw data/P1_B6.mzML  CCMSLIB00003139594\n",
       "1  f.MSV000080673/ccms_peak/2017.AmericanGut3K.mz...  CCMSLIB00000852361\n",
       "2  f.MSV000083004/ccms_peak/Bile_acid_gavage_expe...  CCMSLIB00003125773\n",
       "3  f.MSV000082312/ccms_peak/raw/Samples/SD_01-201...  CCMSLIB00004713744\n",
       "4  f.MSV000080918/ccms_peak/Steatohepatitis progr...  CCMSLIB00003127388"
      ]
     },
     "execution_count": 34,
     "metadata": {},
     "output_type": "execute_result"
    }
   ],
   "source": [
    "small_object_df.head()"
   ]
  },
  {
   "cell_type": "code",
   "execution_count": 35,
   "metadata": {},
   "outputs": [],
   "source": [
    "small_object_df.to_csv(\"compound_occurrences.tsv\", sep=\"\\t\", index=False)"
   ]
  },
  {
   "cell_type": "code",
   "execution_count": 36,
   "metadata": {},
   "outputs": [],
   "source": [
    "ones_set = set()\n",
    "for id_object in small_object_df.to_dict(orient=\"records\"):\n",
    "    filename = id_object[\"full_CCMS_path\"]\n",
    "    compound_name = id_object[\"SpectrumID\"]\n",
    "    key = \"%s_%s\" % (filename, compound_name)\n",
    "    ones_set.add(key)"
   ]
  },
  {
   "cell_type": "code",
   "execution_count": 37,
   "metadata": {},
   "outputs": [],
   "source": [
    "all_filenames = list(set(list(small_object_df[\"full_CCMS_path\"])))\n",
    "all_compounds = list(set(list(small_object_df[\"SpectrumID\"])))"
   ]
  },
  {
   "cell_type": "code",
   "execution_count": 38,
   "metadata": {},
   "outputs": [],
   "source": [
    "import uuid\n",
    "import os\n",
    "\n",
    "def split_formatting(compounds_list):\n",
    "    all_records = []\n",
    "    for compound in compounds_list:\n",
    "        record_dict = {}\n",
    "        record_dict[\"#OTU ID\"] = compound\n",
    "        for filename in all_filenames:\n",
    "            key = \"%s_%s\" % (filename, compound)\n",
    "            if key in ones_set:\n",
    "                record_dict[filename] = \"1\"\n",
    "            else:\n",
    "                record_dict[filename] = \"0\"\n",
    "        all_records.append(record_dict)\n",
    "    \n",
    "    output_filename = os.path.join(\"output\", str(uuid.uuid4()) + \".tsv\")\n",
    "    pd.DataFrame(all_records).to_csv(output_filename, sep=\"\\t\", index=False)\n",
    "    "
   ]
  },
  {
   "cell_type": "code",
   "execution_count": 21,
   "metadata": {},
   "outputs": [],
   "source": [
    "split_formatting(all_compounds[:10])"
   ]
  },
  {
   "cell_type": "code",
   "execution_count": null,
   "metadata": {},
   "outputs": [],
   "source": [
    "from joblib import Parallel, delayed\n",
    "\n",
    "def divide_chunks(l, n): \n",
    "    # looping till length l \n",
    "    for i in range(0, len(l), n):  \n",
    "        yield l[i:i + n] \n",
    "\n",
    "compound_chunks = list(divide_chunks(all_compounds, 1000))\n",
    "\n",
    "Parallel(n_jobs=8)(delayed(split_formatting)(compound_chunk) for compound_chunk in compound_chunks)\n"
   ]
  },
  {
   "cell_type": "code",
   "execution_count": null,
   "metadata": {},
   "outputs": [],
   "source": [
    "!awk '(NR == 1) || (FNR > 1)' output/* > merged/merged.tsv"
   ]
  },
  {
   "cell_type": "code",
   "execution_count": null,
   "metadata": {},
   "outputs": [],
   "source": [
    "!biom convert -i ./merged/merged.tsv -o ./merged/merged.biom --table-type=\"OTU table\" --to-hdf5"
   ]
  }
 ],
 "metadata": {
  "kernelspec": {
   "display_name": "Python 3",
   "language": "python",
   "name": "python3"
  },
  "language_info": {
   "codemirror_mode": {
    "name": "ipython",
    "version": 3
   },
   "file_extension": ".py",
   "mimetype": "text/x-python",
   "name": "python",
   "nbconvert_exporter": "python",
   "pygments_lexer": "ipython3",
   "version": "3.7.3"
  }
 },
 "nbformat": 4,
 "nbformat_minor": 4
}
