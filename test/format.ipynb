{
 "cells": [
  {
   "cell_type": "code",
   "execution_count": 41,
   "metadata": {},
   "outputs": [],
   "source": [
    "import pandas as pd\n",
    "df = pd.read_csv(\"original_pca.csv\", index_col=0)"
   ]
  },
  {
   "cell_type": "code",
   "execution_count": 42,
   "metadata": {},
   "outputs": [],
   "source": [
    "df[\"pc vector number\"] = df.index\n",
    "\n",
    "df.rename(columns={'4':'5'}, \n",
    "                 inplace=True)\n",
    "df.rename(columns={'3':'4'}, \n",
    "                 inplace=True)\n",
    "df.rename(columns={'2':'3'}, \n",
    "                 inplace=True)\n",
    "df.rename(columns={'1':'2'}, \n",
    "                 inplace=True)\n",
    "df.rename(columns={'0':'1'}, \n",
    "                 inplace=True)\n",
    "df.keys()\n",
    "df.to_csv(\"empror.tsv\", sep=\"\\t\", index=False, columns=[\"pc vector number\", \"1\", \"2\", \"3\", \"4\", \"5\"])\n",
    "\n",
    "#Add the thing at the end, the eigen values and explained variation"
   ]
  },
  {
   "cell_type": "code",
   "execution_count": 43,
   "metadata": {},
   "outputs": [],
   "source": [
    "metadata_df = pd.DataFrame()\n",
    "metadata_df[\"#SampleID\"] = df[\"pc vector number\"]\n",
    "metadata_df[\"BarcodeSequence\"] = \"AGCACGAGCCTA\"\n",
    "metadata_df[\"LinkerPrimerSequence\"] = \"YATGCTGCCTCCCGTAGGAGT\"\n",
    "metadata_df[\"Description\"] = df[\"pc vector number\"]\n",
    "  \n",
    "metadata_df.to_csv(\"metadata.tsv\", sep=\"\\t\", index=False)"
   ]
  },
  {
   "cell_type": "code",
   "execution_count": null,
   "metadata": {
    "collapsed": true
   },
   "outputs": [],
   "source": []
  }
 ],
 "metadata": {
  "kernelspec": {
   "display_name": "Python 2",
   "language": "python",
   "name": "python2"
  },
  "language_info": {
   "codemirror_mode": {
    "name": "ipython",
    "version": 2
   },
   "file_extension": ".py",
   "mimetype": "text/x-python",
   "name": "python",
   "nbconvert_exporter": "python",
   "pygments_lexer": "ipython2",
   "version": "2.7.12"
  }
 },
 "nbformat": 4,
 "nbformat_minor": 2
}
