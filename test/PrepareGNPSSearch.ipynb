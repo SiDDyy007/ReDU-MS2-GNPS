{
 "cells": [
  {
   "cell_type": "code",
   "execution_count": 1,
   "metadata": {},
   "outputs": [],
   "source": [
    "import pandas as pd\n",
    "df = pd.read_csv(\"gnps_redu_metadata.tsv\", sep=\"\\t\")"
   ]
  },
  {
   "cell_type": "code",
   "execution_count": 31,
   "metadata": {},
   "outputs": [
    {
     "name": "stdout",
     "output_type": "stream",
     "text": [
      "built_environment 171\n"
     ]
    },
    {
     "name": "stderr",
     "output_type": "stream",
     "text": [
      "/Users/mingxun/miniconda3/lib/python3.7/site-packages/urllib3/connectionpool.py:847: InsecureRequestWarning: Unverified HTTPS request is being made. Adding certificate verification is strongly advised. See: https://urllib3.readthedocs.io/en/latest/advanced-usage.html#ssl-warnings\n",
      "  InsecureRequestWarning)\n",
      "/Users/mingxun/miniconda3/lib/python3.7/site-packages/urllib3/connectionpool.py:847: InsecureRequestWarning: Unverified HTTPS request is being made. Adding certificate verification is strongly advised. See: https://urllib3.readthedocs.io/en/latest/advanced-usage.html#ssl-warnings\n",
      "  InsecureRequestWarning)\n"
     ]
    },
    {
     "name": "stdout",
     "output_type": "stream",
     "text": [
      "Launched Task: : 5012d0161efe4cc3b750ca7977f7385c\n",
      "5012d0161efe4cc3b750ca7977f7385c\n"
     ]
    }
   ],
   "source": [
    "import random\n",
    "import credentials\n",
    "from ccmsproteosafepythonapi import gnps\n",
    "from ccmsproteosafepythonapi import proteosafe\n",
    "\n",
    "ATTRIBUTE = \"Attribute_SampleType\"\n",
    "all_terms = list(set(df[ATTRIBUTE]))\n",
    "MAX_SIZE = 1000\n",
    "\n",
    "output_tasks = []\n",
    "\n",
    "for term in all_terms:\n",
    "    filtered_term_df = df[df[ATTRIBUTE] == term] \n",
    "    filenames_to_analyze = list(filtered_term_df[\"filename\"])\n",
    "    \n",
    "    random.seed(0)\n",
    "    subsample_filenames = random.sample(filenames_to_analyze, min(MAX_SIZE, len(filenames_to_analyze)))\n",
    "\n",
    "    print(term, len(subsample_filenames))\n",
    "    \n",
    "    workflow_parameters = gnps.get_classic_networking_highres_parameters()\n",
    "    workflow_parameters[\"spec_on_server\"] = \";\".join(subsample_filenames)\n",
    "    workflow_parameters[\"desc\"] = \"ReDU Analysis %s - %s\" % (ATTRIBUTE, term)\n",
    "    workflow_parameters[\"email\"] = \"mwang87@gmail.com\"\n",
    "    \n",
    "    task = proteosafe.invoke_workflow(\"gnps.ucsd.edu\", workflow_parameters, credentials.USERNAME, credentials.PASSWORD)\n",
    "    \n",
    "    print(task)\n",
    "    \n",
    "    if task == None:\n",
    "        continue\n",
    "        \n",
    "    task_dict = {}\n",
    "    task_dict[\"task\"] = task\n",
    "    task_dict[\"description\"] = \"ReDU Analysis %s - %s\" % (ATTRIBUTE, term)\n",
    "    \n",
    "    output_tasks.append(task_dict)\n",
    "    \n",
    "pd.DataFrame(output_tasks).to_csv(\"%s_tasks.tsv\" % (ATTRIBUTE), sep=\"\\t\", index=False)\n",
    "    "
   ]
  },
  {
   "cell_type": "code",
   "execution_count": 14,
   "metadata": {},
   "outputs": [
    {
     "data": {
      "text/plain": [
       "['built_environment',\n",
       " 'plant',\n",
       " 'blank_extraction',\n",
       " 'environmental',\n",
       " 'food',\n",
       " 'culture_mammalian',\n",
       " 'reference material',\n",
       " 'culture_bacterial',\n",
       " 'animal',\n",
       " 'blank_QC',\n",
       " 'blank_analysis',\n",
       " 'culture_multiplespecies',\n",
       " 'inanimate_object',\n",
       " 'culture_fungal',\n",
       " 'beverage']"
      ]
     },
     "execution_count": 14,
     "metadata": {},
     "output_type": "execute_result"
    }
   ],
   "source": [
    "all_terms"
   ]
  },
  {
   "cell_type": "code",
   "execution_count": 12,
   "metadata": {},
   "outputs": [
    {
     "ename": "KeyError",
     "evalue": "'Column not found: plant'",
     "output_type": "error",
     "traceback": [
      "\u001b[0;31m---------------------------------------------------------------------------\u001b[0m",
      "\u001b[0;31mKeyError\u001b[0m                                  Traceback (most recent call last)",
      "\u001b[0;32m<ipython-input-12-393580faaab6>\u001b[0m in \u001b[0;36m<module>\u001b[0;34m\u001b[0m\n\u001b[0;32m----> 1\u001b[0;31m \u001b[0mgrouped_df\u001b[0m\u001b[0;34m[\u001b[0m\u001b[0;34m\"plant\"\u001b[0m\u001b[0;34m]\u001b[0m\u001b[0;34m\u001b[0m\u001b[0;34m\u001b[0m\u001b[0m\n\u001b[0m",
      "\u001b[0;32m~/miniconda3/lib/python3.7/site-packages/pandas/core/base.py\u001b[0m in \u001b[0;36m__getitem__\u001b[0;34m(self, key)\u001b[0m\n\u001b[1;32m    273\u001b[0m         \u001b[0;32melse\u001b[0m\u001b[0;34m:\u001b[0m\u001b[0;34m\u001b[0m\u001b[0;34m\u001b[0m\u001b[0m\n\u001b[1;32m    274\u001b[0m             \u001b[0;32mif\u001b[0m \u001b[0mkey\u001b[0m \u001b[0;32mnot\u001b[0m \u001b[0;32min\u001b[0m \u001b[0mself\u001b[0m\u001b[0;34m.\u001b[0m\u001b[0mobj\u001b[0m\u001b[0;34m:\u001b[0m\u001b[0;34m\u001b[0m\u001b[0;34m\u001b[0m\u001b[0m\n\u001b[0;32m--> 275\u001b[0;31m                 \u001b[0;32mraise\u001b[0m \u001b[0mKeyError\u001b[0m\u001b[0;34m(\u001b[0m\u001b[0;34m\"Column not found: {key}\"\u001b[0m\u001b[0;34m.\u001b[0m\u001b[0mformat\u001b[0m\u001b[0;34m(\u001b[0m\u001b[0mkey\u001b[0m\u001b[0;34m=\u001b[0m\u001b[0mkey\u001b[0m\u001b[0;34m)\u001b[0m\u001b[0;34m)\u001b[0m\u001b[0;34m\u001b[0m\u001b[0;34m\u001b[0m\u001b[0m\n\u001b[0m\u001b[1;32m    276\u001b[0m             \u001b[0;32mreturn\u001b[0m \u001b[0mself\u001b[0m\u001b[0;34m.\u001b[0m\u001b[0m_gotitem\u001b[0m\u001b[0;34m(\u001b[0m\u001b[0mkey\u001b[0m\u001b[0;34m,\u001b[0m \u001b[0mndim\u001b[0m\u001b[0;34m=\u001b[0m\u001b[0;36m1\u001b[0m\u001b[0;34m)\u001b[0m\u001b[0;34m\u001b[0m\u001b[0;34m\u001b[0m\u001b[0m\n\u001b[1;32m    277\u001b[0m \u001b[0;34m\u001b[0m\u001b[0m\n",
      "\u001b[0;31mKeyError\u001b[0m: 'Column not found: plant'"
     ]
    }
   ],
   "source": [
    "grouped_df[\"plant\"]"
   ]
  },
  {
   "cell_type": "code",
   "execution_count": null,
   "metadata": {},
   "outputs": [],
   "source": []
  }
 ],
 "metadata": {
  "kernelspec": {
   "display_name": "Python 3",
   "language": "python",
   "name": "python3"
  },
  "language_info": {
   "codemirror_mode": {
    "name": "ipython",
    "version": 3
   },
   "file_extension": ".py",
   "mimetype": "text/x-python",
   "name": "python",
   "nbconvert_exporter": "python",
   "pygments_lexer": "ipython3",
   "version": "3.7.3"
  }
 },
 "nbformat": 4,
 "nbformat_minor": 4
}
